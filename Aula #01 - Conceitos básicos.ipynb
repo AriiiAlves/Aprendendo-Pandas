{
 "cells": [
  {
   "cell_type": "code",
   "execution_count": 4,
   "metadata": {},
   "outputs": [
    {
     "name": "stdout",
     "output_type": "stream",
     "text": [
      "    Nome  Idade\n",
      "0  Jonas     18\n",
      "1   Luna     29\n",
      "2  Diana     26\n"
     ]
    }
   ],
   "source": [
    "import pandas as pd\n",
    "\n",
    "idades = [{'Nome': 'Jonas', 'Idade': 18}, {'Nome': 'Luna', 'Idade': 29}, {'Nome': 'Diana', 'Idade': 26}]\n",
    "\n",
    "idades_df = pd.DataFrame(idades)\n",
    "\n",
    "print(idades_df)"
   ]
  }
 ],
 "metadata": {
  "kernelspec": {
   "display_name": "Python 3",
   "language": "python",
   "name": "python3"
  },
  "language_info": {
   "codemirror_mode": {
    "name": "ipython",
    "version": 3
   },
   "file_extension": ".py",
   "mimetype": "text/x-python",
   "name": "python",
   "nbconvert_exporter": "python",
   "pygments_lexer": "ipython3",
   "version": "3.12.0"
  }
 },
 "nbformat": 4,
 "nbformat_minor": 2
}
