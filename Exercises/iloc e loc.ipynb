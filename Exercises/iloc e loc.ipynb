{
 "cells": [
  {
   "cell_type": "markdown",
   "metadata": {},
   "source": [
    "# Exercícios com loc e iloc"
   ]
  },
  {
   "cell_type": "code",
   "execution_count": 4,
   "metadata": {},
   "outputs": [
    {
     "data": {
      "text/html": [
       "<div>\n",
       "<style scoped>\n",
       "    .dataframe tbody tr th:only-of-type {\n",
       "        vertical-align: middle;\n",
       "    }\n",
       "\n",
       "    .dataframe tbody tr th {\n",
       "        vertical-align: top;\n",
       "    }\n",
       "\n",
       "    .dataframe thead th {\n",
       "        text-align: right;\n",
       "    }\n",
       "</style>\n",
       "<table border=\"1\" class=\"dataframe\">\n",
       "  <thead>\n",
       "    <tr style=\"text-align: right;\">\n",
       "      <th></th>\n",
       "      <th>Unnamed: 0</th>\n",
       "      <th>DATA INICIAL</th>\n",
       "      <th>DATA FINAL</th>\n",
       "      <th>REGIÃO</th>\n",
       "      <th>ESTADO</th>\n",
       "      <th>PRODUTO</th>\n",
       "      <th>NÚMERO DE POSTOS PESQUISADOS</th>\n",
       "      <th>UNIDADE DE MEDIDA</th>\n",
       "      <th>PREÇO MÉDIO REVENDA</th>\n",
       "      <th>DESVIO PADRÃO REVENDA</th>\n",
       "      <th>...</th>\n",
       "      <th>PREÇO MÁXIMO REVENDA</th>\n",
       "      <th>MARGEM MÉDIA REVENDA</th>\n",
       "      <th>COEF DE VARIAÇÃO REVENDA</th>\n",
       "      <th>PREÇO MÉDIO DISTRIBUIÇÃO</th>\n",
       "      <th>DESVIO PADRÃO DISTRIBUIÇÃO</th>\n",
       "      <th>PREÇO MÍNIMO DISTRIBUIÇÃO</th>\n",
       "      <th>PREÇO MÁXIMO DISTRIBUIÇÃO</th>\n",
       "      <th>COEF DE VARIAÇÃO DISTRIBUIÇÃO</th>\n",
       "      <th>MÊS</th>\n",
       "      <th>ANO</th>\n",
       "    </tr>\n",
       "  </thead>\n",
       "  <tbody>\n",
       "    <tr>\n",
       "      <th>0</th>\n",
       "      <td>0</td>\n",
       "      <td>2004-05-09</td>\n",
       "      <td>2004-05-15</td>\n",
       "      <td>CENTRO OESTE</td>\n",
       "      <td>DISTRITO FEDERAL</td>\n",
       "      <td>ETANOL HIDRATADO</td>\n",
       "      <td>127</td>\n",
       "      <td>R$/l</td>\n",
       "      <td>1.288</td>\n",
       "      <td>0.016</td>\n",
       "      <td>...</td>\n",
       "      <td>1.350</td>\n",
       "      <td>0.463</td>\n",
       "      <td>0.012</td>\n",
       "      <td>0.825</td>\n",
       "      <td>0.11</td>\n",
       "      <td>0.4201</td>\n",
       "      <td>0.9666</td>\n",
       "      <td>0.133</td>\n",
       "      <td>5</td>\n",
       "      <td>2004</td>\n",
       "    </tr>\n",
       "    <tr>\n",
       "      <th>1</th>\n",
       "      <td>1</td>\n",
       "      <td>2004-05-09</td>\n",
       "      <td>2004-05-15</td>\n",
       "      <td>CENTRO OESTE</td>\n",
       "      <td>GOIAS</td>\n",
       "      <td>ETANOL HIDRATADO</td>\n",
       "      <td>387</td>\n",
       "      <td>R$/l</td>\n",
       "      <td>1.162</td>\n",
       "      <td>0.114</td>\n",
       "      <td>...</td>\n",
       "      <td>1.449</td>\n",
       "      <td>0.399</td>\n",
       "      <td>0.098</td>\n",
       "      <td>0.763</td>\n",
       "      <td>0.088</td>\n",
       "      <td>0.5013</td>\n",
       "      <td>1.05</td>\n",
       "      <td>0.115</td>\n",
       "      <td>5</td>\n",
       "      <td>2004</td>\n",
       "    </tr>\n",
       "    <tr>\n",
       "      <th>2</th>\n",
       "      <td>2</td>\n",
       "      <td>2004-05-09</td>\n",
       "      <td>2004-05-15</td>\n",
       "      <td>CENTRO OESTE</td>\n",
       "      <td>MATO GROSSO</td>\n",
       "      <td>ETANOL HIDRATADO</td>\n",
       "      <td>192</td>\n",
       "      <td>R$/l</td>\n",
       "      <td>1.389</td>\n",
       "      <td>0.097</td>\n",
       "      <td>...</td>\n",
       "      <td>1.760</td>\n",
       "      <td>0.419</td>\n",
       "      <td>0.070</td>\n",
       "      <td>0.97</td>\n",
       "      <td>0.095</td>\n",
       "      <td>0.5614</td>\n",
       "      <td>1.161</td>\n",
       "      <td>0.098</td>\n",
       "      <td>5</td>\n",
       "      <td>2004</td>\n",
       "    </tr>\n",
       "    <tr>\n",
       "      <th>3</th>\n",
       "      <td>3</td>\n",
       "      <td>2004-05-09</td>\n",
       "      <td>2004-05-15</td>\n",
       "      <td>CENTRO OESTE</td>\n",
       "      <td>MATO GROSSO DO SUL</td>\n",
       "      <td>ETANOL HIDRATADO</td>\n",
       "      <td>162</td>\n",
       "      <td>R$/l</td>\n",
       "      <td>1.262</td>\n",
       "      <td>0.070</td>\n",
       "      <td>...</td>\n",
       "      <td>1.509</td>\n",
       "      <td>0.432</td>\n",
       "      <td>0.055</td>\n",
       "      <td>0.83</td>\n",
       "      <td>0.119</td>\n",
       "      <td>0.5991</td>\n",
       "      <td>1.22242</td>\n",
       "      <td>0.143</td>\n",
       "      <td>5</td>\n",
       "      <td>2004</td>\n",
       "    </tr>\n",
       "    <tr>\n",
       "      <th>4</th>\n",
       "      <td>4</td>\n",
       "      <td>2004-05-09</td>\n",
       "      <td>2004-05-15</td>\n",
       "      <td>NORDESTE</td>\n",
       "      <td>ALAGOAS</td>\n",
       "      <td>ETANOL HIDRATADO</td>\n",
       "      <td>103</td>\n",
       "      <td>R$/l</td>\n",
       "      <td>1.181</td>\n",
       "      <td>0.078</td>\n",
       "      <td>...</td>\n",
       "      <td>1.400</td>\n",
       "      <td>0.24</td>\n",
       "      <td>0.066</td>\n",
       "      <td>0.941</td>\n",
       "      <td>0.077</td>\n",
       "      <td>0.7441</td>\n",
       "      <td>1.0317</td>\n",
       "      <td>0.082</td>\n",
       "      <td>5</td>\n",
       "      <td>2004</td>\n",
       "    </tr>\n",
       "    <tr>\n",
       "      <th>5</th>\n",
       "      <td>5</td>\n",
       "      <td>2004-05-09</td>\n",
       "      <td>2004-05-15</td>\n",
       "      <td>NORDESTE</td>\n",
       "      <td>BAHIA</td>\n",
       "      <td>ETANOL HIDRATADO</td>\n",
       "      <td>408</td>\n",
       "      <td>R$/l</td>\n",
       "      <td>1.383</td>\n",
       "      <td>0.132</td>\n",
       "      <td>...</td>\n",
       "      <td>2.050</td>\n",
       "      <td>0.426</td>\n",
       "      <td>0.095</td>\n",
       "      <td>0.957</td>\n",
       "      <td>0.128</td>\n",
       "      <td>0.5686</td>\n",
       "      <td>1.35</td>\n",
       "      <td>0.134</td>\n",
       "      <td>5</td>\n",
       "      <td>2004</td>\n",
       "    </tr>\n",
       "    <tr>\n",
       "      <th>6</th>\n",
       "      <td>6</td>\n",
       "      <td>2004-05-09</td>\n",
       "      <td>2004-05-15</td>\n",
       "      <td>NORDESTE</td>\n",
       "      <td>CEARA</td>\n",
       "      <td>ETANOL HIDRATADO</td>\n",
       "      <td>278</td>\n",
       "      <td>R$/l</td>\n",
       "      <td>1.453</td>\n",
       "      <td>0.218</td>\n",
       "      <td>...</td>\n",
       "      <td>1.950</td>\n",
       "      <td>0.353</td>\n",
       "      <td>0.150</td>\n",
       "      <td>1.1</td>\n",
       "      <td>0.068</td>\n",
       "      <td>0.7332</td>\n",
       "      <td>1.294</td>\n",
       "      <td>0.062</td>\n",
       "      <td>5</td>\n",
       "      <td>2004</td>\n",
       "    </tr>\n",
       "    <tr>\n",
       "      <th>7</th>\n",
       "      <td>7</td>\n",
       "      <td>2004-05-09</td>\n",
       "      <td>2004-05-15</td>\n",
       "      <td>NORDESTE</td>\n",
       "      <td>MARANHAO</td>\n",
       "      <td>ETANOL HIDRATADO</td>\n",
       "      <td>105</td>\n",
       "      <td>R$/l</td>\n",
       "      <td>1.631</td>\n",
       "      <td>0.158</td>\n",
       "      <td>...</td>\n",
       "      <td>2.000</td>\n",
       "      <td>0.515</td>\n",
       "      <td>0.097</td>\n",
       "      <td>1.116</td>\n",
       "      <td>0.091</td>\n",
       "      <td>0.9923</td>\n",
       "      <td>1.36183</td>\n",
       "      <td>0.082</td>\n",
       "      <td>5</td>\n",
       "      <td>2004</td>\n",
       "    </tr>\n",
       "    <tr>\n",
       "      <th>8</th>\n",
       "      <td>8</td>\n",
       "      <td>2004-05-09</td>\n",
       "      <td>2004-05-15</td>\n",
       "      <td>NORDESTE</td>\n",
       "      <td>PARAIBA</td>\n",
       "      <td>ETANOL HIDRATADO</td>\n",
       "      <td>125</td>\n",
       "      <td>R$/l</td>\n",
       "      <td>1.284</td>\n",
       "      <td>0.130</td>\n",
       "      <td>...</td>\n",
       "      <td>1.699</td>\n",
       "      <td>0.353</td>\n",
       "      <td>0.101</td>\n",
       "      <td>0.931</td>\n",
       "      <td>0.072</td>\n",
       "      <td>0.7577</td>\n",
       "      <td>1.2972</td>\n",
       "      <td>0.077</td>\n",
       "      <td>5</td>\n",
       "      <td>2004</td>\n",
       "    </tr>\n",
       "    <tr>\n",
       "      <th>9</th>\n",
       "      <td>9</td>\n",
       "      <td>2004-05-09</td>\n",
       "      <td>2004-05-15</td>\n",
       "      <td>NORDESTE</td>\n",
       "      <td>PERNAMBUCO</td>\n",
       "      <td>ETANOL HIDRATADO</td>\n",
       "      <td>423</td>\n",
       "      <td>R$/l</td>\n",
       "      <td>1.224</td>\n",
       "      <td>0.141</td>\n",
       "      <td>...</td>\n",
       "      <td>1.700</td>\n",
       "      <td>0.277</td>\n",
       "      <td>0.115</td>\n",
       "      <td>0.947</td>\n",
       "      <td>0.091</td>\n",
       "      <td>0.5643</td>\n",
       "      <td>1.3541</td>\n",
       "      <td>0.096</td>\n",
       "      <td>5</td>\n",
       "      <td>2004</td>\n",
       "    </tr>\n",
       "  </tbody>\n",
       "</table>\n",
       "<p>10 rows × 21 columns</p>\n",
       "</div>"
      ],
      "text/plain": [
       "   Unnamed: 0 DATA INICIAL  DATA FINAL        REGIÃO              ESTADO  \\\n",
       "0           0   2004-05-09  2004-05-15  CENTRO OESTE    DISTRITO FEDERAL   \n",
       "1           1   2004-05-09  2004-05-15  CENTRO OESTE               GOIAS   \n",
       "2           2   2004-05-09  2004-05-15  CENTRO OESTE         MATO GROSSO   \n",
       "3           3   2004-05-09  2004-05-15  CENTRO OESTE  MATO GROSSO DO SUL   \n",
       "4           4   2004-05-09  2004-05-15      NORDESTE             ALAGOAS   \n",
       "5           5   2004-05-09  2004-05-15      NORDESTE               BAHIA   \n",
       "6           6   2004-05-09  2004-05-15      NORDESTE               CEARA   \n",
       "7           7   2004-05-09  2004-05-15      NORDESTE            MARANHAO   \n",
       "8           8   2004-05-09  2004-05-15      NORDESTE             PARAIBA   \n",
       "9           9   2004-05-09  2004-05-15      NORDESTE          PERNAMBUCO   \n",
       "\n",
       "            PRODUTO  NÚMERO DE POSTOS PESQUISADOS UNIDADE DE MEDIDA  \\\n",
       "0  ETANOL HIDRATADO                           127              R$/l   \n",
       "1  ETANOL HIDRATADO                           387              R$/l   \n",
       "2  ETANOL HIDRATADO                           192              R$/l   \n",
       "3  ETANOL HIDRATADO                           162              R$/l   \n",
       "4  ETANOL HIDRATADO                           103              R$/l   \n",
       "5  ETANOL HIDRATADO                           408              R$/l   \n",
       "6  ETANOL HIDRATADO                           278              R$/l   \n",
       "7  ETANOL HIDRATADO                           105              R$/l   \n",
       "8  ETANOL HIDRATADO                           125              R$/l   \n",
       "9  ETANOL HIDRATADO                           423              R$/l   \n",
       "\n",
       "   PREÇO MÉDIO REVENDA  DESVIO PADRÃO REVENDA  ...  PREÇO MÁXIMO REVENDA  \\\n",
       "0                1.288                  0.016  ...                 1.350   \n",
       "1                1.162                  0.114  ...                 1.449   \n",
       "2                1.389                  0.097  ...                 1.760   \n",
       "3                1.262                  0.070  ...                 1.509   \n",
       "4                1.181                  0.078  ...                 1.400   \n",
       "5                1.383                  0.132  ...                 2.050   \n",
       "6                1.453                  0.218  ...                 1.950   \n",
       "7                1.631                  0.158  ...                 2.000   \n",
       "8                1.284                  0.130  ...                 1.699   \n",
       "9                1.224                  0.141  ...                 1.700   \n",
       "\n",
       "   MARGEM MÉDIA REVENDA COEF DE VARIAÇÃO REVENDA  PREÇO MÉDIO DISTRIBUIÇÃO  \\\n",
       "0                 0.463                    0.012                     0.825   \n",
       "1                 0.399                    0.098                     0.763   \n",
       "2                 0.419                    0.070                      0.97   \n",
       "3                 0.432                    0.055                      0.83   \n",
       "4                  0.24                    0.066                     0.941   \n",
       "5                 0.426                    0.095                     0.957   \n",
       "6                 0.353                    0.150                       1.1   \n",
       "7                 0.515                    0.097                     1.116   \n",
       "8                 0.353                    0.101                     0.931   \n",
       "9                 0.277                    0.115                     0.947   \n",
       "\n",
       "  DESVIO PADRÃO DISTRIBUIÇÃO PREÇO MÍNIMO DISTRIBUIÇÃO  \\\n",
       "0                       0.11                    0.4201   \n",
       "1                      0.088                    0.5013   \n",
       "2                      0.095                    0.5614   \n",
       "3                      0.119                    0.5991   \n",
       "4                      0.077                    0.7441   \n",
       "5                      0.128                    0.5686   \n",
       "6                      0.068                    0.7332   \n",
       "7                      0.091                    0.9923   \n",
       "8                      0.072                    0.7577   \n",
       "9                      0.091                    0.5643   \n",
       "\n",
       "  PREÇO MÁXIMO DISTRIBUIÇÃO COEF DE VARIAÇÃO DISTRIBUIÇÃO MÊS   ANO  \n",
       "0                    0.9666                         0.133   5  2004  \n",
       "1                      1.05                         0.115   5  2004  \n",
       "2                     1.161                         0.098   5  2004  \n",
       "3                   1.22242                         0.143   5  2004  \n",
       "4                    1.0317                         0.082   5  2004  \n",
       "5                      1.35                         0.134   5  2004  \n",
       "6                     1.294                         0.062   5  2004  \n",
       "7                   1.36183                         0.082   5  2004  \n",
       "8                    1.2972                         0.077   5  2004  \n",
       "9                    1.3541                         0.096   5  2004  \n",
       "\n",
       "[10 rows x 21 columns]"
      ]
     },
     "execution_count": 4,
     "metadata": {},
     "output_type": "execute_result"
    }
   ],
   "source": [
    "import pandas as pd\n",
    "\n",
    "data = pd.read_csv('datasets\\GasPricesinBrazil_2004-2019.csv', sep=';')\n",
    "\n",
    "data.head(10)"
   ]
  },
  {
   "cell_type": "markdown",
   "metadata": {},
   "source": [
    "## iloc (localização por índice)"
   ]
  },
  {
   "cell_type": "code",
   "execution_count": 12,
   "metadata": {},
   "outputs": [
    {
     "name": "stdout",
     "output_type": "stream",
     "text": [
      "[5, '2004-05-09', '2004-05-15', 'NORDESTE', 'BAHIA', 'ETANOL HIDRATADO', 408, 'R$/l', 1.383, 0.132, 0.999, 2.05, '0.426', 0.095, '0.957', '0.128', '0.5686', '1.35', '0.134', 5, 2004]\n"
     ]
    }
   ],
   "source": [
    "print(list(data.iloc[5]))"
   ]
  },
  {
   "cell_type": "code",
   "execution_count": 35,
   "metadata": {},
   "outputs": [
    {
     "name": "stdout",
     "output_type": "stream",
     "text": [
      "[5, '2004-05-09', '2004-05-15', 'NORDESTE', 'BAHIA', 'ETANOL HIDRATADO', 408, 'R$/l', 1.383, 0.132, 0.999, 2.05, '0.426', 0.095, '0.957', '0.128', '0.5686', '1.35', '0.134', 5, 2004]\n"
     ]
    }
   ],
   "source": [
    "print(data.iloc[5].to_list())"
   ]
  },
  {
   "cell_type": "code",
   "execution_count": 37,
   "metadata": {},
   "outputs": [
    {
     "name": "stdout",
     "output_type": "stream",
     "text": [
      "{'Unnamed: 0': 5, 'DATA INICIAL': '2004-05-09', 'DATA FINAL': '2004-05-15', 'REGIÃO': 'NORDESTE', 'ESTADO': 'BAHIA', 'PRODUTO': 'ETANOL HIDRATADO', 'NÚMERO DE POSTOS PESQUISADOS': 408, 'UNIDADE DE MEDIDA': 'R$/l', 'PREÇO MÉDIO REVENDA': 1.383, 'DESVIO PADRÃO REVENDA': 0.132, 'PREÇO MÍNIMO REVENDA': 0.999, 'PREÇO MÁXIMO REVENDA': 2.05, 'MARGEM MÉDIA REVENDA': '0.426', 'COEF DE VARIAÇÃO REVENDA': 0.095, 'PREÇO MÉDIO DISTRIBUIÇÃO': '0.957', 'DESVIO PADRÃO DISTRIBUIÇÃO': '0.128', 'PREÇO MÍNIMO DISTRIBUIÇÃO': '0.5686', 'PREÇO MÁXIMO DISTRIBUIÇÃO': '1.35', 'COEF DE VARIAÇÃO DISTRIBUIÇÃO': '0.134', 'MÊS': 5, 'ANO': 2004}\n"
     ]
    }
   ],
   "source": [
    "print(dict(data.iloc[5]))"
   ]
  },
  {
   "cell_type": "code",
   "execution_count": 36,
   "metadata": {},
   "outputs": [
    {
     "name": "stdout",
     "output_type": "stream",
     "text": [
      "{'Unnamed: 0': 5, 'DATA INICIAL': '2004-05-09', 'DATA FINAL': '2004-05-15', 'REGIÃO': 'NORDESTE', 'ESTADO': 'BAHIA', 'PRODUTO': 'ETANOL HIDRATADO', 'NÚMERO DE POSTOS PESQUISADOS': 408, 'UNIDADE DE MEDIDA': 'R$/l', 'PREÇO MÉDIO REVENDA': 1.383, 'DESVIO PADRÃO REVENDA': 0.132, 'PREÇO MÍNIMO REVENDA': 0.999, 'PREÇO MÁXIMO REVENDA': 2.05, 'MARGEM MÉDIA REVENDA': '0.426', 'COEF DE VARIAÇÃO REVENDA': 0.095, 'PREÇO MÉDIO DISTRIBUIÇÃO': '0.957', 'DESVIO PADRÃO DISTRIBUIÇÃO': '0.128', 'PREÇO MÍNIMO DISTRIBUIÇÃO': '0.5686', 'PREÇO MÁXIMO DISTRIBUIÇÃO': '1.35', 'COEF DE VARIAÇÃO DISTRIBUIÇÃO': '0.134', 'MÊS': 5, 'ANO': 2004}\n"
     ]
    }
   ],
   "source": [
    "print(data.iloc[5].to_dict())"
   ]
  },
  {
   "cell_type": "code",
   "execution_count": 15,
   "metadata": {},
   "outputs": [
    {
     "data": {
      "text/plain": [
       "5"
      ]
     },
     "execution_count": 15,
     "metadata": {},
     "output_type": "execute_result"
    }
   ],
   "source": [
    "data.iloc[5, 0]"
   ]
  },
  {
   "cell_type": "code",
   "execution_count": 54,
   "metadata": {},
   "outputs": [
    {
     "data": {
      "text/plain": [
       "numpy.int64"
      ]
     },
     "execution_count": 54,
     "metadata": {},
     "output_type": "execute_result"
    }
   ],
   "source": [
    "type(data.iloc[5, 0])"
   ]
  },
  {
   "cell_type": "code",
   "execution_count": 19,
   "metadata": {},
   "outputs": [
    {
     "data": {
      "text/html": [
       "<div>\n",
       "<style scoped>\n",
       "    .dataframe tbody tr th:only-of-type {\n",
       "        vertical-align: middle;\n",
       "    }\n",
       "\n",
       "    .dataframe tbody tr th {\n",
       "        vertical-align: top;\n",
       "    }\n",
       "\n",
       "    .dataframe thead th {\n",
       "        text-align: right;\n",
       "    }\n",
       "</style>\n",
       "<table border=\"1\" class=\"dataframe\">\n",
       "  <thead>\n",
       "    <tr style=\"text-align: right;\">\n",
       "      <th></th>\n",
       "      <th>Unnamed: 0</th>\n",
       "      <th>DATA INICIAL</th>\n",
       "      <th>DATA FINAL</th>\n",
       "      <th>REGIÃO</th>\n",
       "      <th>ESTADO</th>\n",
       "      <th>PRODUTO</th>\n",
       "      <th>NÚMERO DE POSTOS PESQUISADOS</th>\n",
       "      <th>UNIDADE DE MEDIDA</th>\n",
       "      <th>PREÇO MÉDIO REVENDA</th>\n",
       "      <th>DESVIO PADRÃO REVENDA</th>\n",
       "      <th>...</th>\n",
       "      <th>PREÇO MÁXIMO REVENDA</th>\n",
       "      <th>MARGEM MÉDIA REVENDA</th>\n",
       "      <th>COEF DE VARIAÇÃO REVENDA</th>\n",
       "      <th>PREÇO MÉDIO DISTRIBUIÇÃO</th>\n",
       "      <th>DESVIO PADRÃO DISTRIBUIÇÃO</th>\n",
       "      <th>PREÇO MÍNIMO DISTRIBUIÇÃO</th>\n",
       "      <th>PREÇO MÁXIMO DISTRIBUIÇÃO</th>\n",
       "      <th>COEF DE VARIAÇÃO DISTRIBUIÇÃO</th>\n",
       "      <th>MÊS</th>\n",
       "      <th>ANO</th>\n",
       "    </tr>\n",
       "  </thead>\n",
       "  <tbody>\n",
       "    <tr>\n",
       "      <th>1</th>\n",
       "      <td>1</td>\n",
       "      <td>2004-05-09</td>\n",
       "      <td>2004-05-15</td>\n",
       "      <td>CENTRO OESTE</td>\n",
       "      <td>GOIAS</td>\n",
       "      <td>ETANOL HIDRATADO</td>\n",
       "      <td>387</td>\n",
       "      <td>R$/l</td>\n",
       "      <td>1.162</td>\n",
       "      <td>0.114</td>\n",
       "      <td>...</td>\n",
       "      <td>1.449</td>\n",
       "      <td>0.399</td>\n",
       "      <td>0.098</td>\n",
       "      <td>0.763</td>\n",
       "      <td>0.088</td>\n",
       "      <td>0.5013</td>\n",
       "      <td>1.05</td>\n",
       "      <td>0.115</td>\n",
       "      <td>5</td>\n",
       "      <td>2004</td>\n",
       "    </tr>\n",
       "    <tr>\n",
       "      <th>2</th>\n",
       "      <td>2</td>\n",
       "      <td>2004-05-09</td>\n",
       "      <td>2004-05-15</td>\n",
       "      <td>CENTRO OESTE</td>\n",
       "      <td>MATO GROSSO</td>\n",
       "      <td>ETANOL HIDRATADO</td>\n",
       "      <td>192</td>\n",
       "      <td>R$/l</td>\n",
       "      <td>1.389</td>\n",
       "      <td>0.097</td>\n",
       "      <td>...</td>\n",
       "      <td>1.760</td>\n",
       "      <td>0.419</td>\n",
       "      <td>0.070</td>\n",
       "      <td>0.97</td>\n",
       "      <td>0.095</td>\n",
       "      <td>0.5614</td>\n",
       "      <td>1.161</td>\n",
       "      <td>0.098</td>\n",
       "      <td>5</td>\n",
       "      <td>2004</td>\n",
       "    </tr>\n",
       "    <tr>\n",
       "      <th>3</th>\n",
       "      <td>3</td>\n",
       "      <td>2004-05-09</td>\n",
       "      <td>2004-05-15</td>\n",
       "      <td>CENTRO OESTE</td>\n",
       "      <td>MATO GROSSO DO SUL</td>\n",
       "      <td>ETANOL HIDRATADO</td>\n",
       "      <td>162</td>\n",
       "      <td>R$/l</td>\n",
       "      <td>1.262</td>\n",
       "      <td>0.070</td>\n",
       "      <td>...</td>\n",
       "      <td>1.509</td>\n",
       "      <td>0.432</td>\n",
       "      <td>0.055</td>\n",
       "      <td>0.83</td>\n",
       "      <td>0.119</td>\n",
       "      <td>0.5991</td>\n",
       "      <td>1.22242</td>\n",
       "      <td>0.143</td>\n",
       "      <td>5</td>\n",
       "      <td>2004</td>\n",
       "    </tr>\n",
       "    <tr>\n",
       "      <th>4</th>\n",
       "      <td>4</td>\n",
       "      <td>2004-05-09</td>\n",
       "      <td>2004-05-15</td>\n",
       "      <td>NORDESTE</td>\n",
       "      <td>ALAGOAS</td>\n",
       "      <td>ETANOL HIDRATADO</td>\n",
       "      <td>103</td>\n",
       "      <td>R$/l</td>\n",
       "      <td>1.181</td>\n",
       "      <td>0.078</td>\n",
       "      <td>...</td>\n",
       "      <td>1.400</td>\n",
       "      <td>0.24</td>\n",
       "      <td>0.066</td>\n",
       "      <td>0.941</td>\n",
       "      <td>0.077</td>\n",
       "      <td>0.7441</td>\n",
       "      <td>1.0317</td>\n",
       "      <td>0.082</td>\n",
       "      <td>5</td>\n",
       "      <td>2004</td>\n",
       "    </tr>\n",
       "    <tr>\n",
       "      <th>5</th>\n",
       "      <td>5</td>\n",
       "      <td>2004-05-09</td>\n",
       "      <td>2004-05-15</td>\n",
       "      <td>NORDESTE</td>\n",
       "      <td>BAHIA</td>\n",
       "      <td>ETANOL HIDRATADO</td>\n",
       "      <td>408</td>\n",
       "      <td>R$/l</td>\n",
       "      <td>1.383</td>\n",
       "      <td>0.132</td>\n",
       "      <td>...</td>\n",
       "      <td>2.050</td>\n",
       "      <td>0.426</td>\n",
       "      <td>0.095</td>\n",
       "      <td>0.957</td>\n",
       "      <td>0.128</td>\n",
       "      <td>0.5686</td>\n",
       "      <td>1.35</td>\n",
       "      <td>0.134</td>\n",
       "      <td>5</td>\n",
       "      <td>2004</td>\n",
       "    </tr>\n",
       "  </tbody>\n",
       "</table>\n",
       "<p>5 rows × 21 columns</p>\n",
       "</div>"
      ],
      "text/plain": [
       "   Unnamed: 0 DATA INICIAL  DATA FINAL        REGIÃO              ESTADO  \\\n",
       "1           1   2004-05-09  2004-05-15  CENTRO OESTE               GOIAS   \n",
       "2           2   2004-05-09  2004-05-15  CENTRO OESTE         MATO GROSSO   \n",
       "3           3   2004-05-09  2004-05-15  CENTRO OESTE  MATO GROSSO DO SUL   \n",
       "4           4   2004-05-09  2004-05-15      NORDESTE             ALAGOAS   \n",
       "5           5   2004-05-09  2004-05-15      NORDESTE               BAHIA   \n",
       "\n",
       "            PRODUTO  NÚMERO DE POSTOS PESQUISADOS UNIDADE DE MEDIDA  \\\n",
       "1  ETANOL HIDRATADO                           387              R$/l   \n",
       "2  ETANOL HIDRATADO                           192              R$/l   \n",
       "3  ETANOL HIDRATADO                           162              R$/l   \n",
       "4  ETANOL HIDRATADO                           103              R$/l   \n",
       "5  ETANOL HIDRATADO                           408              R$/l   \n",
       "\n",
       "   PREÇO MÉDIO REVENDA  DESVIO PADRÃO REVENDA  ...  PREÇO MÁXIMO REVENDA  \\\n",
       "1                1.162                  0.114  ...                 1.449   \n",
       "2                1.389                  0.097  ...                 1.760   \n",
       "3                1.262                  0.070  ...                 1.509   \n",
       "4                1.181                  0.078  ...                 1.400   \n",
       "5                1.383                  0.132  ...                 2.050   \n",
       "\n",
       "   MARGEM MÉDIA REVENDA COEF DE VARIAÇÃO REVENDA  PREÇO MÉDIO DISTRIBUIÇÃO  \\\n",
       "1                 0.399                    0.098                     0.763   \n",
       "2                 0.419                    0.070                      0.97   \n",
       "3                 0.432                    0.055                      0.83   \n",
       "4                  0.24                    0.066                     0.941   \n",
       "5                 0.426                    0.095                     0.957   \n",
       "\n",
       "  DESVIO PADRÃO DISTRIBUIÇÃO PREÇO MÍNIMO DISTRIBUIÇÃO  \\\n",
       "1                      0.088                    0.5013   \n",
       "2                      0.095                    0.5614   \n",
       "3                      0.119                    0.5991   \n",
       "4                      0.077                    0.7441   \n",
       "5                      0.128                    0.5686   \n",
       "\n",
       "  PREÇO MÁXIMO DISTRIBUIÇÃO COEF DE VARIAÇÃO DISTRIBUIÇÃO MÊS   ANO  \n",
       "1                      1.05                         0.115   5  2004  \n",
       "2                     1.161                         0.098   5  2004  \n",
       "3                   1.22242                         0.143   5  2004  \n",
       "4                    1.0317                         0.082   5  2004  \n",
       "5                      1.35                         0.134   5  2004  \n",
       "\n",
       "[5 rows x 21 columns]"
      ]
     },
     "execution_count": 19,
     "metadata": {},
     "output_type": "execute_result"
    }
   ],
   "source": [
    "data.iloc[[1, 2, 3, 4, 5]]"
   ]
  },
  {
   "cell_type": "code",
   "execution_count": 53,
   "metadata": {},
   "outputs": [
    {
     "data": {
      "text/plain": [
       "pandas.core.frame.DataFrame"
      ]
     },
     "execution_count": 53,
     "metadata": {},
     "output_type": "execute_result"
    }
   ],
   "source": [
    "type(data.iloc[[1, 2, 3, 4, 5]])"
   ]
  },
  {
   "cell_type": "code",
   "execution_count": 33,
   "metadata": {},
   "outputs": [
    {
     "data": {
      "text/plain": [
       "{'Unnamed: 0': {1: 1, 2: 2, 3: 3, 4: 4, 5: 5},\n",
       " 'DATA INICIAL': {1: '2004-05-09',\n",
       "  2: '2004-05-09',\n",
       "  3: '2004-05-09',\n",
       "  4: '2004-05-09',\n",
       "  5: '2004-05-09'},\n",
       " 'DATA FINAL': {1: '2004-05-15',\n",
       "  2: '2004-05-15',\n",
       "  3: '2004-05-15',\n",
       "  4: '2004-05-15',\n",
       "  5: '2004-05-15'},\n",
       " 'REGIÃO': {1: 'CENTRO OESTE',\n",
       "  2: 'CENTRO OESTE',\n",
       "  3: 'CENTRO OESTE',\n",
       "  4: 'NORDESTE',\n",
       "  5: 'NORDESTE'},\n",
       " 'ESTADO': {1: 'GOIAS',\n",
       "  2: 'MATO GROSSO',\n",
       "  3: 'MATO GROSSO DO SUL',\n",
       "  4: 'ALAGOAS',\n",
       "  5: 'BAHIA'},\n",
       " 'PRODUTO': {1: 'ETANOL HIDRATADO',\n",
       "  2: 'ETANOL HIDRATADO',\n",
       "  3: 'ETANOL HIDRATADO',\n",
       "  4: 'ETANOL HIDRATADO',\n",
       "  5: 'ETANOL HIDRATADO'},\n",
       " 'NÚMERO DE POSTOS PESQUISADOS': {1: 387, 2: 192, 3: 162, 4: 103, 5: 408},\n",
       " 'UNIDADE DE MEDIDA': {1: 'R$/l', 2: 'R$/l', 3: 'R$/l', 4: 'R$/l', 5: 'R$/l'},\n",
       " 'PREÇO MÉDIO REVENDA': {1: 1.162, 2: 1.389, 3: 1.262, 4: 1.181, 5: 1.383},\n",
       " 'DESVIO PADRÃO REVENDA': {1: 0.114,\n",
       "  2: 0.0969999999999999,\n",
       "  3: 0.07,\n",
       "  4: 0.078,\n",
       "  5: 0.132},\n",
       " 'PREÇO MÍNIMO REVENDA': {1: 0.89, 2: 1.18, 3: 1.09, 4: 1.05, 5: 0.999},\n",
       " 'PREÇO MÁXIMO REVENDA': {1: 1.449, 2: 1.76, 3: 1.509, 4: 1.4, 5: 2.05},\n",
       " 'MARGEM MÉDIA REVENDA': {1: '0.399',\n",
       "  2: '0.419',\n",
       "  3: '0.432',\n",
       "  4: '0.24',\n",
       "  5: '0.426'},\n",
       " 'COEF DE VARIAÇÃO REVENDA': {1: 0.098, 2: 0.07, 3: 0.055, 4: 0.066, 5: 0.095},\n",
       " 'PREÇO MÉDIO DISTRIBUIÇÃO': {1: '0.763',\n",
       "  2: '0.97',\n",
       "  3: '0.83',\n",
       "  4: '0.941',\n",
       "  5: '0.957'},\n",
       " 'DESVIO PADRÃO DISTRIBUIÇÃO': {1: '0.088',\n",
       "  2: '0.095',\n",
       "  3: '0.119',\n",
       "  4: '0.077',\n",
       "  5: '0.128'},\n",
       " 'PREÇO MÍNIMO DISTRIBUIÇÃO': {1: '0.5013',\n",
       "  2: '0.5614',\n",
       "  3: '0.5991',\n",
       "  4: '0.7441',\n",
       "  5: '0.5686'},\n",
       " 'PREÇO MÁXIMO DISTRIBUIÇÃO': {1: '1.05',\n",
       "  2: '1.161',\n",
       "  3: '1.22242',\n",
       "  4: '1.0317',\n",
       "  5: '1.35'},\n",
       " 'COEF DE VARIAÇÃO DISTRIBUIÇÃO': {1: '0.115',\n",
       "  2: '0.098',\n",
       "  3: '0.143',\n",
       "  4: '0.082',\n",
       "  5: '0.134'},\n",
       " 'MÊS': {1: 5, 2: 5, 3: 5, 4: 5, 5: 5},\n",
       " 'ANO': {1: 2004, 2: 2004, 3: 2004, 4: 2004, 5: 2004}}"
      ]
     },
     "execution_count": 33,
     "metadata": {},
     "output_type": "execute_result"
    }
   ],
   "source": [
    "data.iloc[[1, 2, 3, 4, 5]].to_dict()"
   ]
  },
  {
   "cell_type": "code",
   "execution_count": 25,
   "metadata": {},
   "outputs": [
    {
     "data": {
      "text/plain": [
       "1                 GOIAS\n",
       "2           MATO GROSSO\n",
       "3    MATO GROSSO DO SUL\n",
       "4               ALAGOAS\n",
       "5                 BAHIA\n",
       "Name: ESTADO, dtype: object"
      ]
     },
     "execution_count": 25,
     "metadata": {},
     "output_type": "execute_result"
    }
   ],
   "source": [
    "data.iloc[[1, 2, 3, 4, 5], 4]"
   ]
  },
  {
   "cell_type": "code",
   "execution_count": 38,
   "metadata": {},
   "outputs": [
    {
     "data": {
      "text/plain": [
       "['GOIAS', 'MATO GROSSO', 'MATO GROSSO DO SUL', 'ALAGOAS', 'BAHIA']"
      ]
     },
     "execution_count": 38,
     "metadata": {},
     "output_type": "execute_result"
    }
   ],
   "source": [
    "data.iloc[[1, 2, 3, 4, 5], 4].to_list()"
   ]
  },
  {
   "cell_type": "code",
   "execution_count": 51,
   "metadata": {},
   "outputs": [
    {
     "data": {
      "text/plain": [
       "pandas.core.series.Series"
      ]
     },
     "execution_count": 51,
     "metadata": {},
     "output_type": "execute_result"
    }
   ],
   "source": [
    "type(data.iloc[1, [3, 4, 5]])"
   ]
  },
  {
   "cell_type": "code",
   "execution_count": 26,
   "metadata": {},
   "outputs": [
    {
     "data": {
      "text/plain": [
       "REGIÃO         CENTRO OESTE\n",
       "ESTADO                GOIAS\n",
       "PRODUTO    ETANOL HIDRATADO\n",
       "Name: 1, dtype: object"
      ]
     },
     "execution_count": 26,
     "metadata": {},
     "output_type": "execute_result"
    }
   ],
   "source": [
    "data.iloc[1, [3, 4, 5]]"
   ]
  },
  {
   "cell_type": "code",
   "execution_count": 40,
   "metadata": {},
   "outputs": [
    {
     "data": {
      "text/plain": [
       "['CENTRO OESTE', 'GOIAS', 'ETANOL HIDRATADO']"
      ]
     },
     "execution_count": 40,
     "metadata": {},
     "output_type": "execute_result"
    }
   ],
   "source": [
    "data.iloc[1, [3, 4, 5]].to_list()"
   ]
  },
  {
   "cell_type": "code",
   "execution_count": 41,
   "metadata": {},
   "outputs": [
    {
     "data": {
      "text/plain": [
       "{'REGIÃO': 'CENTRO OESTE', 'ESTADO': 'GOIAS', 'PRODUTO': 'ETANOL HIDRATADO'}"
      ]
     },
     "execution_count": 41,
     "metadata": {},
     "output_type": "execute_result"
    }
   ],
   "source": [
    "data.iloc[1, [3, 4, 5]].to_dict()"
   ]
  },
  {
   "cell_type": "code",
   "execution_count": 46,
   "metadata": {},
   "outputs": [
    {
     "data": {
      "text/plain": [
       "{'Unnamed: 0': 0,\n",
       " 'DATA INICIAL': '2004-05-09',\n",
       " 'DATA FINAL': '2004-05-15',\n",
       " 'REGIÃO': 'CENTRO OESTE',\n",
       " 'ESTADO': 'DISTRITO FEDERAL',\n",
       " 'PRODUTO': 'ETANOL HIDRATADO',\n",
       " 'NÚMERO DE POSTOS PESQUISADOS': 127,\n",
       " 'UNIDADE DE MEDIDA': 'R$/l',\n",
       " 'PREÇO MÉDIO REVENDA': 1.288,\n",
       " 'DESVIO PADRÃO REVENDA': 0.016,\n",
       " 'PREÇO MÍNIMO REVENDA': 1.19,\n",
       " 'PREÇO MÁXIMO REVENDA': 1.35,\n",
       " 'MARGEM MÉDIA REVENDA': '0.463',\n",
       " 'COEF DE VARIAÇÃO REVENDA': 0.012,\n",
       " 'PREÇO MÉDIO DISTRIBUIÇÃO': '0.825',\n",
       " 'DESVIO PADRÃO DISTRIBUIÇÃO': '0.11',\n",
       " 'PREÇO MÍNIMO DISTRIBUIÇÃO': '0.4201',\n",
       " 'PREÇO MÁXIMO DISTRIBUIÇÃO': '0.9666',\n",
       " 'COEF DE VARIAÇÃO DISTRIBUIÇÃO': '0.133',\n",
       " 'MÊS': 5,\n",
       " 'ANO': 2004}"
      ]
     },
     "execution_count": 46,
     "metadata": {},
     "output_type": "execute_result"
    }
   ],
   "source": [
    "data.iloc[0].to_dict()"
   ]
  },
  {
   "cell_type": "code",
   "execution_count": 49,
   "metadata": {},
   "outputs": [
    {
     "data": {
      "text/plain": [
       "pandas.core.series.Series"
      ]
     },
     "execution_count": 49,
     "metadata": {},
     "output_type": "execute_result"
    }
   ],
   "source": [
    "type(data.iloc[0])"
   ]
  },
  {
   "cell_type": "code",
   "execution_count": 45,
   "metadata": {},
   "outputs": [
    {
     "data": {
      "text/plain": [
       "{'Unnamed: 0': {0: 0},\n",
       " 'DATA INICIAL': {0: '2004-05-09'},\n",
       " 'DATA FINAL': {0: '2004-05-15'},\n",
       " 'REGIÃO': {0: 'CENTRO OESTE'},\n",
       " 'ESTADO': {0: 'DISTRITO FEDERAL'},\n",
       " 'PRODUTO': {0: 'ETANOL HIDRATADO'},\n",
       " 'NÚMERO DE POSTOS PESQUISADOS': {0: 127},\n",
       " 'UNIDADE DE MEDIDA': {0: 'R$/l'},\n",
       " 'PREÇO MÉDIO REVENDA': {0: 1.288},\n",
       " 'DESVIO PADRÃO REVENDA': {0: 0.016},\n",
       " 'PREÇO MÍNIMO REVENDA': {0: 1.19},\n",
       " 'PREÇO MÁXIMO REVENDA': {0: 1.35},\n",
       " 'MARGEM MÉDIA REVENDA': {0: '0.463'},\n",
       " 'COEF DE VARIAÇÃO REVENDA': {0: 0.012},\n",
       " 'PREÇO MÉDIO DISTRIBUIÇÃO': {0: '0.825'},\n",
       " 'DESVIO PADRÃO DISTRIBUIÇÃO': {0: '0.11'},\n",
       " 'PREÇO MÍNIMO DISTRIBUIÇÃO': {0: '0.4201'},\n",
       " 'PREÇO MÁXIMO DISTRIBUIÇÃO': {0: '0.9666'},\n",
       " 'COEF DE VARIAÇÃO DISTRIBUIÇÃO': {0: '0.133'},\n",
       " 'MÊS': {0: 5},\n",
       " 'ANO': {0: 2004}}"
      ]
     },
     "execution_count": 45,
     "metadata": {},
     "output_type": "execute_result"
    }
   ],
   "source": [
    "data.iloc[[0]].to_dict()"
   ]
  },
  {
   "cell_type": "code",
   "execution_count": 50,
   "metadata": {},
   "outputs": [
    {
     "data": {
      "text/plain": [
       "pandas.core.frame.DataFrame"
      ]
     },
     "execution_count": 50,
     "metadata": {},
     "output_type": "execute_result"
    }
   ],
   "source": [
    "type(data.iloc[[0]])"
   ]
  },
  {
   "cell_type": "code",
   "execution_count": 60,
   "metadata": {},
   "outputs": [
    {
     "data": {
      "text/html": [
       "<div>\n",
       "<style scoped>\n",
       "    .dataframe tbody tr th:only-of-type {\n",
       "        vertical-align: middle;\n",
       "    }\n",
       "\n",
       "    .dataframe tbody tr th {\n",
       "        vertical-align: top;\n",
       "    }\n",
       "\n",
       "    .dataframe thead th {\n",
       "        text-align: right;\n",
       "    }\n",
       "</style>\n",
       "<table border=\"1\" class=\"dataframe\">\n",
       "  <thead>\n",
       "    <tr style=\"text-align: right;\">\n",
       "      <th></th>\n",
       "      <th>ESTADO</th>\n",
       "      <th>PRODUTO</th>\n",
       "      <th>NÚMERO DE POSTOS PESQUISADOS</th>\n",
       "    </tr>\n",
       "  </thead>\n",
       "  <tbody>\n",
       "    <tr>\n",
       "      <th>0</th>\n",
       "      <td>DISTRITO FEDERAL</td>\n",
       "      <td>ETANOL HIDRATADO</td>\n",
       "      <td>127</td>\n",
       "    </tr>\n",
       "    <tr>\n",
       "      <th>1</th>\n",
       "      <td>GOIAS</td>\n",
       "      <td>ETANOL HIDRATADO</td>\n",
       "      <td>387</td>\n",
       "    </tr>\n",
       "    <tr>\n",
       "      <th>2</th>\n",
       "      <td>MATO GROSSO</td>\n",
       "      <td>ETANOL HIDRATADO</td>\n",
       "      <td>192</td>\n",
       "    </tr>\n",
       "  </tbody>\n",
       "</table>\n",
       "</div>"
      ],
      "text/plain": [
       "             ESTADO           PRODUTO  NÚMERO DE POSTOS PESQUISADOS\n",
       "0  DISTRITO FEDERAL  ETANOL HIDRATADO                           127\n",
       "1             GOIAS  ETANOL HIDRATADO                           387\n",
       "2       MATO GROSSO  ETANOL HIDRATADO                           192"
      ]
     },
     "execution_count": 60,
     "metadata": {},
     "output_type": "execute_result"
    }
   ],
   "source": [
    "data.iloc[[0, 1, 2], [4, 5, 6]]"
   ]
  },
  {
   "cell_type": "code",
   "execution_count": 59,
   "metadata": {},
   "outputs": [
    {
     "data": {
      "text/plain": [
       "pandas.core.frame.DataFrame"
      ]
     },
     "execution_count": 59,
     "metadata": {},
     "output_type": "execute_result"
    }
   ],
   "source": [
    "type(data.iloc[[0, 1, 2], [4, 5, 6]])"
   ]
  },
  {
   "cell_type": "code",
   "execution_count": 63,
   "metadata": {},
   "outputs": [
    {
     "data": {
      "text/plain": [
       "'2004-05-09'"
      ]
     },
     "execution_count": 63,
     "metadata": {},
     "output_type": "execute_result"
    }
   ],
   "source": [
    "data.iloc[0, 1]"
   ]
  },
  {
   "cell_type": "code",
   "execution_count": 64,
   "metadata": {},
   "outputs": [
    {
     "data": {
      "text/html": [
       "<div>\n",
       "<style scoped>\n",
       "    .dataframe tbody tr th:only-of-type {\n",
       "        vertical-align: middle;\n",
       "    }\n",
       "\n",
       "    .dataframe tbody tr th {\n",
       "        vertical-align: top;\n",
       "    }\n",
       "\n",
       "    .dataframe thead th {\n",
       "        text-align: right;\n",
       "    }\n",
       "</style>\n",
       "<table border=\"1\" class=\"dataframe\">\n",
       "  <thead>\n",
       "    <tr style=\"text-align: right;\">\n",
       "      <th></th>\n",
       "      <th>DATA INICIAL</th>\n",
       "    </tr>\n",
       "  </thead>\n",
       "  <tbody>\n",
       "    <tr>\n",
       "      <th>0</th>\n",
       "      <td>2004-05-09</td>\n",
       "    </tr>\n",
       "  </tbody>\n",
       "</table>\n",
       "</div>"
      ],
      "text/plain": [
       "  DATA INICIAL\n",
       "0   2004-05-09"
      ]
     },
     "execution_count": 64,
     "metadata": {},
     "output_type": "execute_result"
    }
   ],
   "source": [
    "data.iloc[[0], [1]]"
   ]
  },
  {
   "cell_type": "code",
   "execution_count": 65,
   "metadata": {},
   "outputs": [
    {
     "data": {
      "text/plain": [
       "0    DISTRITO FEDERAL\n",
       "1               GOIAS\n",
       "2         MATO GROSSO\n",
       "Name: ESTADO, dtype: object"
      ]
     },
     "execution_count": 65,
     "metadata": {},
     "output_type": "execute_result"
    }
   ],
   "source": [
    "data.iloc[[0, 1, 2], 4]"
   ]
  },
  {
   "cell_type": "code",
   "execution_count": 66,
   "metadata": {},
   "outputs": [
    {
     "data": {
      "text/html": [
       "<div>\n",
       "<style scoped>\n",
       "    .dataframe tbody tr th:only-of-type {\n",
       "        vertical-align: middle;\n",
       "    }\n",
       "\n",
       "    .dataframe tbody tr th {\n",
       "        vertical-align: top;\n",
       "    }\n",
       "\n",
       "    .dataframe thead th {\n",
       "        text-align: right;\n",
       "    }\n",
       "</style>\n",
       "<table border=\"1\" class=\"dataframe\">\n",
       "  <thead>\n",
       "    <tr style=\"text-align: right;\">\n",
       "      <th></th>\n",
       "      <th>ESTADO</th>\n",
       "    </tr>\n",
       "  </thead>\n",
       "  <tbody>\n",
       "    <tr>\n",
       "      <th>0</th>\n",
       "      <td>DISTRITO FEDERAL</td>\n",
       "    </tr>\n",
       "    <tr>\n",
       "      <th>1</th>\n",
       "      <td>GOIAS</td>\n",
       "    </tr>\n",
       "    <tr>\n",
       "      <th>2</th>\n",
       "      <td>MATO GROSSO</td>\n",
       "    </tr>\n",
       "  </tbody>\n",
       "</table>\n",
       "</div>"
      ],
      "text/plain": [
       "             ESTADO\n",
       "0  DISTRITO FEDERAL\n",
       "1             GOIAS\n",
       "2       MATO GROSSO"
      ]
     },
     "execution_count": 66,
     "metadata": {},
     "output_type": "execute_result"
    }
   ],
   "source": [
    "data.iloc[[0, 1, 2], [4]]"
   ]
  },
  {
   "cell_type": "code",
   "execution_count": 67,
   "metadata": {},
   "outputs": [
    {
     "data": {
      "text/plain": [
       "ESTADO    DISTRITO FEDERAL\n",
       "Name: 0, dtype: object"
      ]
     },
     "execution_count": 67,
     "metadata": {},
     "output_type": "execute_result"
    }
   ],
   "source": [
    "data.iloc[0, [4]]"
   ]
  },
  {
   "cell_type": "code",
   "execution_count": 68,
   "metadata": {},
   "outputs": [
    {
     "data": {
      "text/html": [
       "<div>\n",
       "<style scoped>\n",
       "    .dataframe tbody tr th:only-of-type {\n",
       "        vertical-align: middle;\n",
       "    }\n",
       "\n",
       "    .dataframe tbody tr th {\n",
       "        vertical-align: top;\n",
       "    }\n",
       "\n",
       "    .dataframe thead th {\n",
       "        text-align: right;\n",
       "    }\n",
       "</style>\n",
       "<table border=\"1\" class=\"dataframe\">\n",
       "  <thead>\n",
       "    <tr style=\"text-align: right;\">\n",
       "      <th></th>\n",
       "      <th>ESTADO</th>\n",
       "    </tr>\n",
       "  </thead>\n",
       "  <tbody>\n",
       "    <tr>\n",
       "      <th>0</th>\n",
       "      <td>DISTRITO FEDERAL</td>\n",
       "    </tr>\n",
       "  </tbody>\n",
       "</table>\n",
       "</div>"
      ],
      "text/plain": [
       "             ESTADO\n",
       "0  DISTRITO FEDERAL"
      ]
     },
     "execution_count": 68,
     "metadata": {},
     "output_type": "execute_result"
    }
   ],
   "source": [
    "data.iloc[[0], [4]]"
   ]
  },
  {
   "cell_type": "code",
   "execution_count": 79,
   "metadata": {},
   "outputs": [
    {
     "data": {
      "text/plain": [
       "0      DISTRITO FEDERAL\n",
       "1                 GOIAS\n",
       "2           MATO GROSSO\n",
       "3    MATO GROSSO DO SUL\n",
       "4               ALAGOAS\n",
       "Name: ESTADO, dtype: object"
      ]
     },
     "execution_count": 79,
     "metadata": {},
     "output_type": "execute_result"
    }
   ],
   "source": [
    "data.iloc[:5, 4]"
   ]
  },
  {
   "cell_type": "code",
   "execution_count": 78,
   "metadata": {},
   "outputs": [
    {
     "data": {
      "text/plain": [
       "5         BAHIA\n",
       "6         CEARA\n",
       "7      MARANHAO\n",
       "8       PARAIBA\n",
       "9    PERNAMBUCO\n",
       "Name: ESTADO, dtype: object"
      ]
     },
     "execution_count": 78,
     "metadata": {},
     "output_type": "execute_result"
    }
   ],
   "source": [
    "data.iloc[5:10, 4]"
   ]
  },
  {
   "cell_type": "code",
   "execution_count": 81,
   "metadata": {},
   "outputs": [
    {
     "data": {
      "text/html": [
       "<div>\n",
       "<style scoped>\n",
       "    .dataframe tbody tr th:only-of-type {\n",
       "        vertical-align: middle;\n",
       "    }\n",
       "\n",
       "    .dataframe tbody tr th {\n",
       "        vertical-align: top;\n",
       "    }\n",
       "\n",
       "    .dataframe thead th {\n",
       "        text-align: right;\n",
       "    }\n",
       "</style>\n",
       "<table border=\"1\" class=\"dataframe\">\n",
       "  <thead>\n",
       "    <tr style=\"text-align: right;\">\n",
       "      <th></th>\n",
       "      <th>ESTADO</th>\n",
       "      <th>PRODUTO</th>\n",
       "      <th>NÚMERO DE POSTOS PESQUISADOS</th>\n",
       "    </tr>\n",
       "  </thead>\n",
       "  <tbody>\n",
       "    <tr>\n",
       "      <th>5</th>\n",
       "      <td>BAHIA</td>\n",
       "      <td>ETANOL HIDRATADO</td>\n",
       "      <td>408</td>\n",
       "    </tr>\n",
       "    <tr>\n",
       "      <th>6</th>\n",
       "      <td>CEARA</td>\n",
       "      <td>ETANOL HIDRATADO</td>\n",
       "      <td>278</td>\n",
       "    </tr>\n",
       "    <tr>\n",
       "      <th>7</th>\n",
       "      <td>MARANHAO</td>\n",
       "      <td>ETANOL HIDRATADO</td>\n",
       "      <td>105</td>\n",
       "    </tr>\n",
       "    <tr>\n",
       "      <th>8</th>\n",
       "      <td>PARAIBA</td>\n",
       "      <td>ETANOL HIDRATADO</td>\n",
       "      <td>125</td>\n",
       "    </tr>\n",
       "    <tr>\n",
       "      <th>9</th>\n",
       "      <td>PERNAMBUCO</td>\n",
       "      <td>ETANOL HIDRATADO</td>\n",
       "      <td>423</td>\n",
       "    </tr>\n",
       "  </tbody>\n",
       "</table>\n",
       "</div>"
      ],
      "text/plain": [
       "       ESTADO           PRODUTO  NÚMERO DE POSTOS PESQUISADOS\n",
       "5       BAHIA  ETANOL HIDRATADO                           408\n",
       "6       CEARA  ETANOL HIDRATADO                           278\n",
       "7    MARANHAO  ETANOL HIDRATADO                           105\n",
       "8     PARAIBA  ETANOL HIDRATADO                           125\n",
       "9  PERNAMBUCO  ETANOL HIDRATADO                           423"
      ]
     },
     "execution_count": 81,
     "metadata": {},
     "output_type": "execute_result"
    }
   ],
   "source": [
    "data.iloc[5:10, [4, 5, 6]]"
   ]
  },
  {
   "cell_type": "code",
   "execution_count": 82,
   "metadata": {},
   "outputs": [
    {
     "data": {
      "text/plain": [
       "ESTADO                                     BAHIA\n",
       "PRODUTO                         ETANOL HIDRATADO\n",
       "NÚMERO DE POSTOS PESQUISADOS                 408\n",
       "Name: 5, dtype: object"
      ]
     },
     "execution_count": 82,
     "metadata": {},
     "output_type": "execute_result"
    }
   ],
   "source": [
    "data.iloc[5, [4, 5, 6]]"
   ]
  },
  {
   "cell_type": "markdown",
   "metadata": {},
   "source": [
    "## loc (localização por rótulo)"
   ]
  },
  {
   "cell_type": "code",
   "execution_count": 69,
   "metadata": {},
   "outputs": [
    {
     "data": {
      "text/html": [
       "<div>\n",
       "<style scoped>\n",
       "    .dataframe tbody tr th:only-of-type {\n",
       "        vertical-align: middle;\n",
       "    }\n",
       "\n",
       "    .dataframe tbody tr th {\n",
       "        vertical-align: top;\n",
       "    }\n",
       "\n",
       "    .dataframe thead th {\n",
       "        text-align: right;\n",
       "    }\n",
       "</style>\n",
       "<table border=\"1\" class=\"dataframe\">\n",
       "  <thead>\n",
       "    <tr style=\"text-align: right;\">\n",
       "      <th></th>\n",
       "      <th>Unnamed: 0</th>\n",
       "      <th>DATA INICIAL</th>\n",
       "      <th>DATA FINAL</th>\n",
       "      <th>REGIÃO</th>\n",
       "      <th>ESTADO</th>\n",
       "      <th>PRODUTO</th>\n",
       "      <th>NÚMERO DE POSTOS PESQUISADOS</th>\n",
       "      <th>UNIDADE DE MEDIDA</th>\n",
       "      <th>PREÇO MÉDIO REVENDA</th>\n",
       "      <th>DESVIO PADRÃO REVENDA</th>\n",
       "      <th>...</th>\n",
       "      <th>PREÇO MÁXIMO REVENDA</th>\n",
       "      <th>MARGEM MÉDIA REVENDA</th>\n",
       "      <th>COEF DE VARIAÇÃO REVENDA</th>\n",
       "      <th>PREÇO MÉDIO DISTRIBUIÇÃO</th>\n",
       "      <th>DESVIO PADRÃO DISTRIBUIÇÃO</th>\n",
       "      <th>PREÇO MÍNIMO DISTRIBUIÇÃO</th>\n",
       "      <th>PREÇO MÁXIMO DISTRIBUIÇÃO</th>\n",
       "      <th>COEF DE VARIAÇÃO DISTRIBUIÇÃO</th>\n",
       "      <th>MÊS</th>\n",
       "      <th>ANO</th>\n",
       "    </tr>\n",
       "  </thead>\n",
       "  <tbody>\n",
       "    <tr>\n",
       "      <th>0</th>\n",
       "      <td>0</td>\n",
       "      <td>2004-05-09</td>\n",
       "      <td>2004-05-15</td>\n",
       "      <td>CENTRO OESTE</td>\n",
       "      <td>DISTRITO FEDERAL</td>\n",
       "      <td>ETANOL HIDRATADO</td>\n",
       "      <td>127</td>\n",
       "      <td>R$/l</td>\n",
       "      <td>1.288</td>\n",
       "      <td>0.016</td>\n",
       "      <td>...</td>\n",
       "      <td>1.35</td>\n",
       "      <td>0.463</td>\n",
       "      <td>0.012</td>\n",
       "      <td>0.825</td>\n",
       "      <td>0.11</td>\n",
       "      <td>0.4201</td>\n",
       "      <td>0.9666</td>\n",
       "      <td>0.133</td>\n",
       "      <td>5</td>\n",
       "      <td>2004</td>\n",
       "    </tr>\n",
       "  </tbody>\n",
       "</table>\n",
       "<p>1 rows × 21 columns</p>\n",
       "</div>"
      ],
      "text/plain": [
       "   Unnamed: 0 DATA INICIAL  DATA FINAL        REGIÃO            ESTADO  \\\n",
       "0           0   2004-05-09  2004-05-15  CENTRO OESTE  DISTRITO FEDERAL   \n",
       "\n",
       "            PRODUTO  NÚMERO DE POSTOS PESQUISADOS UNIDADE DE MEDIDA  \\\n",
       "0  ETANOL HIDRATADO                           127              R$/l   \n",
       "\n",
       "   PREÇO MÉDIO REVENDA  DESVIO PADRÃO REVENDA  ...  PREÇO MÁXIMO REVENDA  \\\n",
       "0                1.288                  0.016  ...                  1.35   \n",
       "\n",
       "   MARGEM MÉDIA REVENDA COEF DE VARIAÇÃO REVENDA  PREÇO MÉDIO DISTRIBUIÇÃO  \\\n",
       "0                 0.463                    0.012                     0.825   \n",
       "\n",
       "  DESVIO PADRÃO DISTRIBUIÇÃO PREÇO MÍNIMO DISTRIBUIÇÃO  \\\n",
       "0                       0.11                    0.4201   \n",
       "\n",
       "  PREÇO MÁXIMO DISTRIBUIÇÃO COEF DE VARIAÇÃO DISTRIBUIÇÃO MÊS   ANO  \n",
       "0                    0.9666                         0.133   5  2004  \n",
       "\n",
       "[1 rows x 21 columns]"
      ]
     },
     "execution_count": 69,
     "metadata": {},
     "output_type": "execute_result"
    }
   ],
   "source": [
    "data.head(1)"
   ]
  },
  {
   "cell_type": "code",
   "execution_count": 71,
   "metadata": {},
   "outputs": [
    {
     "data": {
      "text/plain": [
       "'ETANOL HIDRATADO'"
      ]
     },
     "execution_count": 71,
     "metadata": {},
     "output_type": "execute_result"
    }
   ],
   "source": [
    "data.loc[0, 'PRODUTO']"
   ]
  },
  {
   "cell_type": "code",
   "execution_count": 72,
   "metadata": {},
   "outputs": [
    {
     "ename": "KeyError",
     "evalue": "0",
     "output_type": "error",
     "traceback": [
      "\u001b[1;31m---------------------------------------------------------------------------\u001b[0m",
      "\u001b[1;31mKeyError\u001b[0m                                  Traceback (most recent call last)",
      "File \u001b[1;32mc:\\Users\\Ariel\\AppData\\Local\\Programs\\Python\\Python311\\Lib\\site-packages\\pandas\\core\\indexes\\base.py:3790\u001b[0m, in \u001b[0;36mIndex.get_loc\u001b[1;34m(self, key)\u001b[0m\n\u001b[0;32m   3789\u001b[0m \u001b[39mtry\u001b[39;00m:\n\u001b[1;32m-> 3790\u001b[0m     \u001b[39mreturn\u001b[39;00m \u001b[39mself\u001b[39;49m\u001b[39m.\u001b[39;49m_engine\u001b[39m.\u001b[39;49mget_loc(casted_key)\n\u001b[0;32m   3791\u001b[0m \u001b[39mexcept\u001b[39;00m \u001b[39mKeyError\u001b[39;00m \u001b[39mas\u001b[39;00m err:\n",
      "File \u001b[1;32mindex.pyx:152\u001b[0m, in \u001b[0;36mpandas._libs.index.IndexEngine.get_loc\u001b[1;34m()\u001b[0m\n",
      "File \u001b[1;32mindex.pyx:181\u001b[0m, in \u001b[0;36mpandas._libs.index.IndexEngine.get_loc\u001b[1;34m()\u001b[0m\n",
      "File \u001b[1;32mpandas\\_libs\\hashtable_class_helper.pxi:7080\u001b[0m, in \u001b[0;36mpandas._libs.hashtable.PyObjectHashTable.get_item\u001b[1;34m()\u001b[0m\n",
      "File \u001b[1;32mpandas\\_libs\\hashtable_class_helper.pxi:7088\u001b[0m, in \u001b[0;36mpandas._libs.hashtable.PyObjectHashTable.get_item\u001b[1;34m()\u001b[0m\n",
      "\u001b[1;31mKeyError\u001b[0m: 0",
      "\nThe above exception was the direct cause of the following exception:\n",
      "\u001b[1;31mKeyError\u001b[0m                                  Traceback (most recent call last)",
      "\u001b[1;32mc:\\Users\\Ariel\\Documents\\GitHub\\Learning-Pandas\\Exercises\\iloc e loc.ipynb Célula 34\u001b[0m line \u001b[0;36m1\n\u001b[1;32m----> <a href='vscode-notebook-cell:/c%3A/Users/Ariel/Documents/GitHub/Learning-Pandas/Exercises/iloc%20e%20loc.ipynb#X52sZmlsZQ%3D%3D?line=0'>1</a>\u001b[0m data\u001b[39m.\u001b[39;49mloc[\u001b[39m0\u001b[39;49m, \u001b[39m0\u001b[39;49m]\n",
      "File \u001b[1;32mc:\\Users\\Ariel\\AppData\\Local\\Programs\\Python\\Python311\\Lib\\site-packages\\pandas\\core\\indexing.py:1146\u001b[0m, in \u001b[0;36m_LocationIndexer.__getitem__\u001b[1;34m(self, key)\u001b[0m\n\u001b[0;32m   1144\u001b[0m     key \u001b[39m=\u001b[39m \u001b[39mtuple\u001b[39m(com\u001b[39m.\u001b[39mapply_if_callable(x, \u001b[39mself\u001b[39m\u001b[39m.\u001b[39mobj) \u001b[39mfor\u001b[39;00m x \u001b[39min\u001b[39;00m key)\n\u001b[0;32m   1145\u001b[0m     \u001b[39mif\u001b[39;00m \u001b[39mself\u001b[39m\u001b[39m.\u001b[39m_is_scalar_access(key):\n\u001b[1;32m-> 1146\u001b[0m         \u001b[39mreturn\u001b[39;00m \u001b[39mself\u001b[39;49m\u001b[39m.\u001b[39;49mobj\u001b[39m.\u001b[39;49m_get_value(\u001b[39m*\u001b[39;49mkey, takeable\u001b[39m=\u001b[39;49m\u001b[39mself\u001b[39;49m\u001b[39m.\u001b[39;49m_takeable)\n\u001b[0;32m   1147\u001b[0m     \u001b[39mreturn\u001b[39;00m \u001b[39mself\u001b[39m\u001b[39m.\u001b[39m_getitem_tuple(key)\n\u001b[0;32m   1148\u001b[0m \u001b[39melse\u001b[39;00m:\n\u001b[0;32m   1149\u001b[0m     \u001b[39m# we by definition only have the 0th axis\u001b[39;00m\n",
      "File \u001b[1;32mc:\\Users\\Ariel\\AppData\\Local\\Programs\\Python\\Python311\\Lib\\site-packages\\pandas\\core\\frame.py:4008\u001b[0m, in \u001b[0;36mDataFrame._get_value\u001b[1;34m(self, index, col, takeable)\u001b[0m\n\u001b[0;32m   4005\u001b[0m     series \u001b[39m=\u001b[39m \u001b[39mself\u001b[39m\u001b[39m.\u001b[39m_ixs(col, axis\u001b[39m=\u001b[39m\u001b[39m1\u001b[39m)\n\u001b[0;32m   4006\u001b[0m     \u001b[39mreturn\u001b[39;00m series\u001b[39m.\u001b[39m_values[index]\n\u001b[1;32m-> 4008\u001b[0m series \u001b[39m=\u001b[39m \u001b[39mself\u001b[39;49m\u001b[39m.\u001b[39;49m_get_item_cache(col)\n\u001b[0;32m   4009\u001b[0m engine \u001b[39m=\u001b[39m \u001b[39mself\u001b[39m\u001b[39m.\u001b[39mindex\u001b[39m.\u001b[39m_engine\n\u001b[0;32m   4011\u001b[0m \u001b[39mif\u001b[39;00m \u001b[39mnot\u001b[39;00m \u001b[39misinstance\u001b[39m(\u001b[39mself\u001b[39m\u001b[39m.\u001b[39mindex, MultiIndex):\n\u001b[0;32m   4012\u001b[0m     \u001b[39m# CategoricalIndex: Trying to use the engine fastpath may give incorrect\u001b[39;00m\n\u001b[0;32m   4013\u001b[0m     \u001b[39m#  results if our categories are integers that dont match our codes\u001b[39;00m\n\u001b[0;32m   4014\u001b[0m     \u001b[39m# IntervalIndex: IntervalTree has no get_loc\u001b[39;00m\n",
      "File \u001b[1;32mc:\\Users\\Ariel\\AppData\\Local\\Programs\\Python\\Python311\\Lib\\site-packages\\pandas\\core\\frame.py:4417\u001b[0m, in \u001b[0;36mDataFrame._get_item_cache\u001b[1;34m(self, item)\u001b[0m\n\u001b[0;32m   4412\u001b[0m res \u001b[39m=\u001b[39m cache\u001b[39m.\u001b[39mget(item)\n\u001b[0;32m   4413\u001b[0m \u001b[39mif\u001b[39;00m res \u001b[39mis\u001b[39;00m \u001b[39mNone\u001b[39;00m:\n\u001b[0;32m   4414\u001b[0m     \u001b[39m# All places that call _get_item_cache have unique columns,\u001b[39;00m\n\u001b[0;32m   4415\u001b[0m     \u001b[39m#  pending resolution of GH#33047\u001b[39;00m\n\u001b[1;32m-> 4417\u001b[0m     loc \u001b[39m=\u001b[39m \u001b[39mself\u001b[39;49m\u001b[39m.\u001b[39;49mcolumns\u001b[39m.\u001b[39;49mget_loc(item)\n\u001b[0;32m   4418\u001b[0m     res \u001b[39m=\u001b[39m \u001b[39mself\u001b[39m\u001b[39m.\u001b[39m_ixs(loc, axis\u001b[39m=\u001b[39m\u001b[39m1\u001b[39m)\n\u001b[0;32m   4420\u001b[0m     cache[item] \u001b[39m=\u001b[39m res\n",
      "File \u001b[1;32mc:\\Users\\Ariel\\AppData\\Local\\Programs\\Python\\Python311\\Lib\\site-packages\\pandas\\core\\indexes\\base.py:3797\u001b[0m, in \u001b[0;36mIndex.get_loc\u001b[1;34m(self, key)\u001b[0m\n\u001b[0;32m   3792\u001b[0m     \u001b[39mif\u001b[39;00m \u001b[39misinstance\u001b[39m(casted_key, \u001b[39mslice\u001b[39m) \u001b[39mor\u001b[39;00m (\n\u001b[0;32m   3793\u001b[0m         \u001b[39misinstance\u001b[39m(casted_key, abc\u001b[39m.\u001b[39mIterable)\n\u001b[0;32m   3794\u001b[0m         \u001b[39mand\u001b[39;00m \u001b[39many\u001b[39m(\u001b[39misinstance\u001b[39m(x, \u001b[39mslice\u001b[39m) \u001b[39mfor\u001b[39;00m x \u001b[39min\u001b[39;00m casted_key)\n\u001b[0;32m   3795\u001b[0m     ):\n\u001b[0;32m   3796\u001b[0m         \u001b[39mraise\u001b[39;00m InvalidIndexError(key)\n\u001b[1;32m-> 3797\u001b[0m     \u001b[39mraise\u001b[39;00m \u001b[39mKeyError\u001b[39;00m(key) \u001b[39mfrom\u001b[39;00m \u001b[39merr\u001b[39;00m\n\u001b[0;32m   3798\u001b[0m \u001b[39mexcept\u001b[39;00m \u001b[39mTypeError\u001b[39;00m:\n\u001b[0;32m   3799\u001b[0m     \u001b[39m# If we have a listlike key, _check_indexing_error will raise\u001b[39;00m\n\u001b[0;32m   3800\u001b[0m     \u001b[39m#  InvalidIndexError. Otherwise we fall through and re-raise\u001b[39;00m\n\u001b[0;32m   3801\u001b[0m     \u001b[39m#  the TypeError.\u001b[39;00m\n\u001b[0;32m   3802\u001b[0m     \u001b[39mself\u001b[39m\u001b[39m.\u001b[39m_check_indexing_error(key)\n",
      "\u001b[1;31mKeyError\u001b[0m: 0"
     ]
    }
   ],
   "source": [
    "data.loc[0, 0]"
   ]
  },
  {
   "cell_type": "code",
   "execution_count": 73,
   "metadata": {},
   "outputs": [
    {
     "data": {
      "text/plain": [
       "0    ETANOL HIDRATADO\n",
       "1    ETANOL HIDRATADO\n",
       "2    ETANOL HIDRATADO\n",
       "3    ETANOL HIDRATADO\n",
       "Name: PRODUTO, dtype: object"
      ]
     },
     "execution_count": 73,
     "metadata": {},
     "output_type": "execute_result"
    }
   ],
   "source": [
    "data.loc[[0, 1, 2, 3], 'PRODUTO']"
   ]
  },
  {
   "cell_type": "code",
   "execution_count": 75,
   "metadata": {},
   "outputs": [
    {
     "data": {
      "text/html": [
       "<div>\n",
       "<style scoped>\n",
       "    .dataframe tbody tr th:only-of-type {\n",
       "        vertical-align: middle;\n",
       "    }\n",
       "\n",
       "    .dataframe tbody tr th {\n",
       "        vertical-align: top;\n",
       "    }\n",
       "\n",
       "    .dataframe thead th {\n",
       "        text-align: right;\n",
       "    }\n",
       "</style>\n",
       "<table border=\"1\" class=\"dataframe\">\n",
       "  <thead>\n",
       "    <tr style=\"text-align: right;\">\n",
       "      <th></th>\n",
       "      <th>PRODUTO</th>\n",
       "      <th>ESTADO</th>\n",
       "    </tr>\n",
       "  </thead>\n",
       "  <tbody>\n",
       "    <tr>\n",
       "      <th>0</th>\n",
       "      <td>ETANOL HIDRATADO</td>\n",
       "      <td>DISTRITO FEDERAL</td>\n",
       "    </tr>\n",
       "    <tr>\n",
       "      <th>1</th>\n",
       "      <td>ETANOL HIDRATADO</td>\n",
       "      <td>GOIAS</td>\n",
       "    </tr>\n",
       "    <tr>\n",
       "      <th>2</th>\n",
       "      <td>ETANOL HIDRATADO</td>\n",
       "      <td>MATO GROSSO</td>\n",
       "    </tr>\n",
       "    <tr>\n",
       "      <th>3</th>\n",
       "      <td>ETANOL HIDRATADO</td>\n",
       "      <td>MATO GROSSO DO SUL</td>\n",
       "    </tr>\n",
       "  </tbody>\n",
       "</table>\n",
       "</div>"
      ],
      "text/plain": [
       "            PRODUTO              ESTADO\n",
       "0  ETANOL HIDRATADO    DISTRITO FEDERAL\n",
       "1  ETANOL HIDRATADO               GOIAS\n",
       "2  ETANOL HIDRATADO         MATO GROSSO\n",
       "3  ETANOL HIDRATADO  MATO GROSSO DO SUL"
      ]
     },
     "execution_count": 75,
     "metadata": {},
     "output_type": "execute_result"
    }
   ],
   "source": [
    "data.loc[[0, 1, 2, 3], ['PRODUTO', 'ESTADO']]"
   ]
  },
  {
   "cell_type": "code",
   "execution_count": 84,
   "metadata": {},
   "outputs": [
    {
     "data": {
      "text/html": [
       "<div>\n",
       "<style scoped>\n",
       "    .dataframe tbody tr th:only-of-type {\n",
       "        vertical-align: middle;\n",
       "    }\n",
       "\n",
       "    .dataframe tbody tr th {\n",
       "        vertical-align: top;\n",
       "    }\n",
       "\n",
       "    .dataframe thead th {\n",
       "        text-align: right;\n",
       "    }\n",
       "</style>\n",
       "<table border=\"1\" class=\"dataframe\">\n",
       "  <thead>\n",
       "    <tr style=\"text-align: right;\">\n",
       "      <th></th>\n",
       "      <th>PRODUTO</th>\n",
       "      <th>ESTADO</th>\n",
       "    </tr>\n",
       "  </thead>\n",
       "  <tbody>\n",
       "    <tr>\n",
       "      <th>0</th>\n",
       "      <td>ETANOL HIDRATADO</td>\n",
       "      <td>DISTRITO FEDERAL</td>\n",
       "    </tr>\n",
       "    <tr>\n",
       "      <th>1</th>\n",
       "      <td>ETANOL HIDRATADO</td>\n",
       "      <td>GOIAS</td>\n",
       "    </tr>\n",
       "    <tr>\n",
       "      <th>2</th>\n",
       "      <td>ETANOL HIDRATADO</td>\n",
       "      <td>MATO GROSSO</td>\n",
       "    </tr>\n",
       "    <tr>\n",
       "      <th>3</th>\n",
       "      <td>ETANOL HIDRATADO</td>\n",
       "      <td>MATO GROSSO DO SUL</td>\n",
       "    </tr>\n",
       "    <tr>\n",
       "      <th>4</th>\n",
       "      <td>ETANOL HIDRATADO</td>\n",
       "      <td>ALAGOAS</td>\n",
       "    </tr>\n",
       "    <tr>\n",
       "      <th>...</th>\n",
       "      <td>...</td>\n",
       "      <td>...</td>\n",
       "    </tr>\n",
       "    <tr>\n",
       "      <th>106818</th>\n",
       "      <td>GNV</td>\n",
       "      <td>RIO GRANDE DO NORTE</td>\n",
       "    </tr>\n",
       "    <tr>\n",
       "      <th>106819</th>\n",
       "      <td>GNV</td>\n",
       "      <td>RIO GRANDE DO SUL</td>\n",
       "    </tr>\n",
       "    <tr>\n",
       "      <th>106820</th>\n",
       "      <td>GNV</td>\n",
       "      <td>SANTA CATARINA</td>\n",
       "    </tr>\n",
       "    <tr>\n",
       "      <th>106821</th>\n",
       "      <td>GNV</td>\n",
       "      <td>SAO PAULO</td>\n",
       "    </tr>\n",
       "    <tr>\n",
       "      <th>106822</th>\n",
       "      <td>GNV</td>\n",
       "      <td>SERGIPE</td>\n",
       "    </tr>\n",
       "  </tbody>\n",
       "</table>\n",
       "<p>106823 rows × 2 columns</p>\n",
       "</div>"
      ],
      "text/plain": [
       "                 PRODUTO               ESTADO\n",
       "0       ETANOL HIDRATADO     DISTRITO FEDERAL\n",
       "1       ETANOL HIDRATADO                GOIAS\n",
       "2       ETANOL HIDRATADO          MATO GROSSO\n",
       "3       ETANOL HIDRATADO   MATO GROSSO DO SUL\n",
       "4       ETANOL HIDRATADO              ALAGOAS\n",
       "...                  ...                  ...\n",
       "106818               GNV  RIO GRANDE DO NORTE\n",
       "106819               GNV    RIO GRANDE DO SUL\n",
       "106820               GNV       SANTA CATARINA\n",
       "106821               GNV            SAO PAULO\n",
       "106822               GNV              SERGIPE\n",
       "\n",
       "[106823 rows x 2 columns]"
      ]
     },
     "execution_count": 84,
     "metadata": {},
     "output_type": "execute_result"
    }
   ],
   "source": [
    "data.loc[:, ['PRODUTO', 'ESTADO']]"
   ]
  },
  {
   "cell_type": "code",
   "execution_count": 86,
   "metadata": {},
   "outputs": [
    {
     "data": {
      "text/plain": [
       "0      DISTRITO FEDERAL\n",
       "1                 GOIAS\n",
       "2           MATO GROSSO\n",
       "3    MATO GROSSO DO SUL\n",
       "4               ALAGOAS\n",
       "Name: ESTADO, dtype: object"
      ]
     },
     "execution_count": 86,
     "metadata": {},
     "output_type": "execute_result"
    }
   ],
   "source": [
    "data.loc[[0, 1, 2, 3, 4],'ESTADO']"
   ]
  }
 ],
 "metadata": {
  "kernelspec": {
   "display_name": "Python 3",
   "language": "python",
   "name": "python3"
  },
  "language_info": {
   "codemirror_mode": {
    "name": "ipython",
    "version": 3
   },
   "file_extension": ".py",
   "mimetype": "text/x-python",
   "name": "python",
   "nbconvert_exporter": "python",
   "pygments_lexer": "ipython3",
   "version": "3.11.1"
  }
 },
 "nbformat": 4,
 "nbformat_minor": 2
}
